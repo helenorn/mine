{
 "cells": [
  {
   "cell_type": "markdown",
   "metadata": {},
   "source": [
    "\n",
    "# Supervised Learning\n"
   ]
  },
  {
   "cell_type": "markdown",
   "metadata": {},
   "source": [
    "### Intialization"
   ]
  },
  {
   "cell_type": "code",
   "execution_count": 2,
   "metadata": {},
   "outputs": [],
   "source": [
    "import numpy as np\n",
    "import matplotlib.pyplot as plt\n",
    "import sklearn\n",
    "from sklearn import datasets\n",
    "import random"
   ]
  },
  {
   "cell_type": "markdown",
   "metadata": {},
   "source": [
    "# Part 1: Comparing classifiers\n",
    "## Datasets\n"
   ]
  },
  {
   "cell_type": "code",
   "execution_count": 3,
   "metadata": {},
   "outputs": [],
   "source": [
    "from sklearn.datasets import make_blobs\n",
    "X, t = make_blobs(n_samples=[400,800,400], centers=[[0,0],[1,2],[2,3]], \n",
    "                  n_features=2, random_state=2019)"
   ]
  },
  {
   "cell_type": "code",
   "execution_count": 4,
   "metadata": {},
   "outputs": [],
   "source": [
    "indices = np.arange(X.shape[0])\n",
    "random.seed(2020)\n",
    "random.shuffle(indices)"
   ]
  },
  {
   "cell_type": "code",
   "execution_count": 5,
   "metadata": {},
   "outputs": [],
   "source": [
    "X_train = X[indices[:800],:]\n",
    "X_val = X[indices[800:1200],:]\n",
    "X_test = X[indices[1200:],:]\n",
    "\n",
    "t_train = t[indices[:800]]\n",
    "t_val = t[indices[800:1200]]\n",
    "t_test = t[indices[1200:]]"
   ]
  },
  {
   "cell_type": "markdown",
   "metadata": {},
   "source": [
    "Next, we will  make a second dataset by merging the two smaller classes in (X,t) and call the new set (X, t2). This will be a binary set."
   ]
  },
  {
   "cell_type": "code",
   "execution_count": 6,
   "metadata": {},
   "outputs": [],
   "source": [
    "t2_train = t_train == 1\n",
    "t2_train = t2_train.astype('int')\n",
    "t2_val = (t_val == 1).astype('int')\n",
    "t2_test = (t_test == 1).astype('int')"
   ]
  },
  {
   "cell_type": "markdown",
   "metadata": {},
   "source": [
    "Plot the two training sets."
   ]
  },
  {
   "cell_type": "code",
   "execution_count": 7,
   "metadata": {},
   "outputs": [
    {
     "data": {
      "image/png": "[encoded data removed]",
      "text/plain": [
       "<Figure size 432x288 with 1 Axes>"
      ]
     },
     "metadata": {
      "needs_background": "light"
     },
     "output_type": "display_data"
    }
   ],
   "source": [
    "import pandas\n",
    "import itertools\n",
    "import numpy as np\n",
    "import random\n",
    "import matplotlib.pyplot as plt\n",
    "import operator\n",
    "\n",
    "def show(X, y, marker='.'):\n",
    "    labels = set(y)\n",
    "    for lab in labels:\n",
    "        plt.plot(X[y == lab][:, 1], X[y == lab][:, 0],\n",
    "                 marker, label=\"class {}\".format(lab))\n",
    "    plt.legend()\n",
    "\n",
    "#show(X_train, t_train) #first plot\n",
    "show(X_train, t2_train) #second plot"
   ]
  },
  {
   "cell_type": "markdown",
   "metadata": {},
   "source": [
    "## Binary classifiers"
   ]
  },
  {
   "cell_type": "markdown",
   "metadata": {},
   "source": [
    "### Linear regression\n"
   ]
  },
  {
   "cell_type": "code",
   "execution_count": 8,
   "metadata": {},
   "outputs": [
    {
     "name": "stdout",
     "output_type": "stream",
     "text": [
      "Antall interasjoner: 61 61\n",
      "Antall interasjoner: 61 61\n",
      "Antall interasjoner: 36 36\n",
      "Antall interasjoner: 2 2\n",
      "Resultater (på forment (diff, accuracy)): [(0.0001, 0.565), (0.0003, 0.565), (0.003, 0.5525), (0.007, 0.4775)]\n"
     ]
    }
   ],
   "source": [
    "def add_bias(X, b=1):\n",
    "    # Put bias in position 0\n",
    "    sh = X.shape\n",
    "    if len(sh) == 1:\n",
    "        #X is a vector\n",
    "        return np.concatenate([np.array([1]), X])\n",
    "    else:\n",
    "        # X is a matrix\n",
    "        m = sh[0]\n",
    "        bias = np.ones((m,1)) # Makes a m*1 matrix of 1-s\n",
    "        bias.fill(b)\n",
    "        return np.concatenate([bias, X], axis  = 1)\n",
    "\n",
    "\n",
    "        \n",
    "class NumpyClassifier():\n",
    "    \"\"\"Common methods to all numpy classifiers --- if any\"\"\"\n",
    "    \n",
    "    def accuracy(self,X_test, y_test, **kwargs):\n",
    "        pred = self.predict(X_test, **kwargs)\n",
    "\n",
    "    \n",
    "        if len(pred.shape) > 1:\n",
    "            pred = pred[:,0]\n",
    "        return sum(pred==y_test)/len(pred)\n",
    "                \n",
    "\n",
    "    import numpy as np\n",
    "    \n",
    "class NumpyLinRegClass(NumpyClassifier):\n",
    "\n",
    "    def fit(self, X_train, t_train, gamma = 0.1, epochs=17, diff=0.0001):\n",
    "        \"\"\"X_train is a Nxm matrix, N data points, m features\n",
    "        t_train are the targets values for training data\"\"\"\n",
    "       \n",
    "        (k, m) = X_train.shape\n",
    "        X_train = add_bias(X_train)\n",
    "        self.theta = theta = np.zeros(m+1)\n",
    "        theta-=gamma / k *  X_train.T @ (X_train @ theta - t_train)\n",
    "        update = theta-gamma / k *  X_train.T @ (X_train @ theta - t_train) \n",
    "        \n",
    "        \n",
    "        while np.linalg.norm(update)-np.linalg.norm(theta) >= diff and i_2 <= 60:\n",
    "            theta -= gamma / k *  X_train.T @ (X_train @ theta - t_train)\n",
    "            update = theta-gamma / k *  X_train.T @ (X_train @ theta - t_train)\n",
    "            \n",
    "        \n",
    "    def predict(self, x, threshold=0.5):\n",
    "        z = add_bias(x)\n",
    "        score = z @ self.theta\n",
    "        \n",
    "        return score>threshold\n",
    "\n",
    "diffs = [0.0001, 0.0003, 0.003, 0.007]\n",
    "lin_reg_acc = []\n",
    "c = NumpyLinRegClass()\n",
    "\n",
    "for i in range(4):\n",
    "    c.fit(X_train, t2_train, diff=diffs[i])\n",
    "    lin_reg_acc.append((diffs[i],c.accuracy(X_val, t2_val)))\n",
    "                       \n",
    "print(\"Resultater (på forment (diff, accuracy)):\",lin_reg_acc)"
   ]
  },
  {
   "cell_type": "markdown",
   "metadata": {},
   "source": [
    "### Logistic regression\n"
   ]
  },
  {
   "cell_type": "code",
   "execution_count": 18,
   "metadata": {
    "scrolled": true
   },
   "outputs": [
    {
     "name": "stdout",
     "output_type": "stream",
     "text": [
      "Resultater (på forment (diff, accuracy)): [(0.0001, 0.605), (0.0003, 0.6125), (0.003, 0.6), (0.007, 0.595)]\n"
     ]
    }
   ],
   "source": [
    "def logistic(x):\n",
    "    return 1/(1+np.exp(-x))\n",
    "\n",
    "class NumpyLogReg(NumpyClassifier):\n",
    "\n",
    "    def fit(self, X_train, t_train, gamma = 0.1, epochs=200, diff=0.0001):\n",
    "        \"\"\"X_train is a Nxm matrix, N data points, m features\n",
    "        t_train are the targets values for training data\"\"\"\n",
    "        \n",
    "        (k, m) = X_train.shape\n",
    "        X_train = add_bias(X_train)\n",
    "        \n",
    "        self.theta = theta = np.zeros(m+1) \n",
    "        theta-= gamma / k *  X_train.T @ (self.forward(X_train) - t_train)  \n",
    "        update = theta-gamma / k *  X_train.T @ (self.forward(X_train) - t_train)  \n",
    "        i = 0\n",
    "        \n",
    "        while np.linalg.norm(update)-np.linalg.norm(theta) >= diff:\n",
    "            theta -= gamma / k *  X_train.T @ (self.forward(X_train) - t_train) \n",
    "            update = theta-gamma / k *  X_train.T @ (self.forward(X_train) - t_train)\n",
    "            i += 1\n",
    "        \n",
    "    \n",
    "    def forward(self, X):\n",
    "        return logistic(X @ self.theta)\n",
    "    \n",
    "    def score(self, x):\n",
    "        z = add_bias(x)\n",
    "        score = self.forward(z)\n",
    "        return score\n",
    "    \n",
    "    def predict(self, x, threshold=0.5):\n",
    "        z = add_bias(x)\n",
    "        score = self.forward(z)\n",
    "        return (score>threshold).astype('int')\n",
    "\n",
    "    \n",
    "log_reg_acc = []\n",
    "c2 = NumpyLogReg()\n",
    "\n",
    "for i in range(4):\n",
    "    c2.fit(X_train, t2_train, diff=diffs[i])\n",
    "    log_reg_acc.append((diffs[i],c2.accuracy(X_val, t2_val)))\n",
    "                       \n",
    "print(\"Resultater (på forment (diff, accuracy)):\",log_reg_acc)"
   ]
  },
  {
   "cell_type": "markdown",
   "metadata": {},
   "source": [
    "### *k*-nearest neighbors (*k*NN)\n"
   ]
  },
  {
   "cell_type": "code",
   "execution_count": 10,
   "metadata": {},
   "outputs": [
    {
     "name": "stdout",
     "output_type": "stream",
     "text": [
      "Resultater (på forment (k, accuracy)): [(1, 0.67), (3, 0.68), (5, 0.7125), (7, 0.735), (9, 0.7325), (11, 0.7375), (13, 0.7475), (15, 0.7525), (17, 0.75), (19, 0.7525)]\n"
     ]
    }
   ],
   "source": [
    "from collections import Counter\n",
    "\n",
    "def distance_L2(a, b):\n",
    "    s = sum((x - y) ** 2 for (x,y) in zip(a,b))\n",
    "    return s ** 0.5\n",
    "\n",
    "def majority(a):\n",
    "    counts = Counter(a)\n",
    "    return counts.most_common()[0][0]\n",
    "\n",
    "class PyClassifier():\n",
    "\n",
    "    def accuracy(self,X_test, y_test, **kwargs):\n",
    "        \"\"\"Calculate the accuracy of the classifier \n",
    "        using the predict method\"\"\"\n",
    "        predicted = [self.predict(a, **kwargs) for a in X_test]\n",
    "        equal = len([(p, g) for (p,g) in zip(predicted, y_test) if p==g])\n",
    "        return equal / len(y_test)\n",
    "    \n",
    "\n",
    "class PykNNClassifier(PyClassifier):\n",
    "    \"\"\"kNN classifier using pure python representations\"\"\"\n",
    "    \n",
    "    def __init__(self, k=3, dist=distance_L2):\n",
    "        self.k = k\n",
    "        self.dist = dist\n",
    "        \n",
    "    def fit(self, X_train, y_train):\n",
    "        self.X_train = X_train\n",
    "        self.y_train = y_train\n",
    "    \n",
    "    def get_predicted(self, X):\n",
    "        predicted = [self.predict(a) for a in X]\n",
    "        return predicted\n",
    "    \n",
    "    def predict(self, a):\n",
    "        X = self.X_train\n",
    "        y = self.y_train\n",
    "        distances = [(self.dist(a, b), b, c) for (b, c) in zip(X, y)]\n",
    "        distances.sort()\n",
    "        predictors = [c for (_,_,c) in distances[0: k]]\n",
    "        \n",
    "\n",
    "        return majority(predictors)\n",
    "    \n",
    "x = range(1, 20, 2)\n",
    "knn_acc = []\n",
    "\n",
    "for k in x:\n",
    "    c3 = PykNNClassifier(k=k)\n",
    "    c3.fit(X_train, t2_train)\n",
    "    knn_acc.append((k, c3.accuracy(X_val, t2_val)))\n",
    "\n",
    "print(\"Resultater (på forment (k, accuracy)):\", knn_acc)"
   ]
  },
  {
   "cell_type": "markdown",
   "metadata": {},
   "source": [
    "### Simple perceptron\n"
   ]
  },
  {
   "cell_type": "code",
   "execution_count": 11,
   "metadata": {},
   "outputs": [
    {
     "data": {
      "text/plain": [
       "0.6475"
      ]
     },
     "execution_count": 11,
     "metadata": {},
     "output_type": "execute_result"
    }
   ],
   "source": [
    "\n",
    "class PyPerClassifier(PyClassifier):\n",
    "    \"\"\"Simple perceptron python classifier\"\"\"\n",
    "    \n",
    "    def fit(self, X_train, y_train, eta=1, epochs=1):\n",
    "\n",
    "        X_train = [[1]+list(x) for x in X_train]     \n",
    "        self.dim = dim = len(X_train[0])\n",
    "        self.weights = weights = [0 for _ in range(dim)]\n",
    "   \n",
    "\n",
    "        for e in range(epochs):\n",
    "            for x, t in zip(X_train, y_train):\n",
    "                y = int(self.forward(x)>0)\n",
    "                for i in range(dim):\n",
    "                    weights[i] += eta * (t - y) * x[i]\n",
    "        \n",
    "    def forward(self, x):\n",
    "        \"\"\"Calculate the score for the item x\"\"\"\n",
    "        score = sum([self.weights[i]*x[i] for i in range(self.dim)])\n",
    "        return score\n",
    "    \n",
    "    def get_predicted(self, X):\n",
    "        predicted = [self.predict(a) for a in X]\n",
    "        return predicted\n",
    "    \n",
    "    def predict(self, x):\n",
    "        \"\"\"Predict the value for the item x\"\"\"\n",
    "        x = [1] + list(x)\n",
    "        score = self.forward(x)\n",
    "        return int(score > 0)\n",
    "    \n",
    "c4 = PyPerClassifier()\n",
    "c4.fit(X_train, t2_train)\n",
    "c4.accuracy(X_val, t2_val)"
   ]
  },
  {
   "cell_type": "markdown",
   "metadata": {},
   "source": [
    "## Summary\n",
    "\n",
    "\n",
    "| Classifier | Paramether | Accuracy         \n",
    "| :- |-------------: | :-:\n",
    "|  Linear regression | 17 epochs  | 0.5075 \n",
    "|  Linear regression | diff on 0.0001 |  0.6025\n",
    "|  Linear regression | diff on 0.003|   0.5525 \n",
    "|  Linear regression | diff on 0.0003|  0.5925\n",
    "| Logistic regression | 17 epochs |  0.6\n",
    "| Logistic regression | 200 epochs |  0.62\n",
    "| Logistic regression | 0.0001 |  0.605\n",
    "| Logistic regression | 0.0003 |  0.6125\n",
    "| Logistic regression | 0.003 |  0.6\n",
    "| Logistic regression | 0.007 |  0.595\n",
    "| KNN | 3 |  0.68\n",
    "| KNN| 11 |  0.7375\n",
    "| KNN | 15 and 19 |  0.7525\n",
    "| PyPer |  |  0.6475\n",
    "\n"
   ]
  },
  {
   "cell_type": "markdown",
   "metadata": {},
   "source": [
    "## Multi-class classifiers\n"
   ]
  },
  {
   "cell_type": "markdown",
   "metadata": {},
   "source": [
    "### *k*NN\n"
   ]
  },
  {
   "cell_type": "code",
   "execution_count": 12,
   "metadata": {},
   "outputs": [
    {
     "name": "stdout",
     "output_type": "stream",
     "text": [
      "Resultater (på forment (k, accuracy)): [(1, 0.6625), (3, 0.675), (5, 0.7075), (7, 0.73), (9, 0.7425), (11, 0.7475), (13, 0.75), (15, 0.7575), (17, 0.7525), (19, 0.755)]\n"
     ]
    }
   ],
   "source": [
    "x = range(1, 20, 2)\n",
    "knn_acc_multi = []\n",
    "\n",
    "for k in x:\n",
    "    c4 = PykNNClassifier(k=k)\n",
    "    c4.fit(X_train, t_train)\n",
    "    knn_acc_multi.append((k,c4.accuracy(X_val, t_val)))\n",
    "    \n",
    "print(\"Resultater (på forment (k, accuracy)):\", knn_acc_multi)"
   ]
  },
  {
   "cell_type": "markdown",
   "metadata": {},
   "source": [
    "| Classifier | Paramether | Accuracy         \n",
    "| :- |-------------: | :-:\n",
    "| KNN Multi Class| 15 |  0.7575\n",
    "| KNN Multi Class |  17 | 0.7525\n",
    "| KNN Multi Class |  19 | 0.755\n",
    "\n",
    "\n"
   ]
  },
  {
   "cell_type": "markdown",
   "metadata": {},
   "source": [
    "### Logistic regression \"one-vs-rest\"\n"
   ]
  },
  {
   "cell_type": "code",
   "execution_count": 13,
   "metadata": {},
   "outputs": [
    {
     "name": "stdout",
     "output_type": "stream",
     "text": [
      "Accuracy med 3 klasser: [0.9075, 0.605, 0.8575]\n"
     ]
    }
   ],
   "source": [
    "one_rest_acc = []\n",
    "\n",
    "for i in range(len(set(t_train))):\n",
    "    t = []\n",
    "    v = []\n",
    "    \n",
    "    for c in t_train:\n",
    "        if c == i:\n",
    "            t.append(1)\n",
    "        else:\n",
    "            t.append(0)\n",
    "            \n",
    "    for c in t_val:\n",
    "        if c == i:\n",
    "            v.append(1)\n",
    "        else:\n",
    "            v.append(0)\n",
    "            \n",
    "    c5 = NumpyLogReg()\n",
    "    c5.fit(X_train, t)\n",
    "    one_rest_acc.append(c5.accuracy(X_val, v))\n",
    "\n",
    "print(\"Accuracy med\", len(set(t_train)),\"klasser:\",one_rest_acc)"
   ]
  },
  {
   "cell_type": "markdown",
   "metadata": {},
   "source": [
    "### Discuss\n",
    "\n",
    "\n",
    "| Classifier | Paramether | Accuracy       \n",
    "| :- |-------------: | :-:  \n",
    "| One-vs-rest| 0.0001 |  0.9075\n",
    "| One-vs-rest |  0.0001 | 0.605\n",
    "| One-vs-rest |  0.0001 | 0.8575\n",
    "| One-vs-rest|  0.007 |  0.845\n",
    "| One-vs-rest |  0.007 | 0.595\n",
    "| One-vs-rest |  0.007  | 0.84\n",
    "| Logistic regression | 0.0001 |  0.605\n",
    "| Logistic regression | 0.007 |  0.595\n",
    "\n",
    "\n",
    "As we can see here, the modified logistic regression classifier has better results for class 0 and 2 (although this might be a result of overfitting, at leat when the diff is set to 0.0001). \n",
    "Class 1, however, has the exact same result as the original classifier, the results are the same. \n",
    "If we look at the plot for the original classifier, we can see that the class 1 is hard\n",
    "to separate from the other classes, which might be the reason for the low accuracy in both classifiers. \n",
    "\n",
    "Class 0 had slightly better accuracy than class 2."
   ]
  },
  {
   "cell_type": "markdown",
   "metadata": {},
   "source": [
    "## Adding non-linear features"
   ]
  },
  {
   "cell_type": "code",
   "execution_count": 19,
   "metadata": {},
   "outputs": [
    {
     "name": "stdout",
     "output_type": "stream",
     "text": [
      "Antall interasjoner: 61 61\n",
      "[0.515, 0.67, [(1, 0.6625), (3, 0.68), (5, 0.685), (7, 0.695), (9, 0.715), (11, 0.7275), (13, 0.7375), (15, 0.74), (17, 0.735), (19, 0.7275)], 0.605]\n"
     ]
    }
   ],
   "source": [
    "X_train_non_lin = np.zeros([800, 5])\n",
    "X_val_non_lin = np.zeros([400, 5])\n",
    "\n",
    "for i, e in enumerate(X_train):\n",
    "    x, y, z  = np.square(e[0]), np.square(e[1]), e[0]*e[1] \n",
    "    new = np.append(e, np.array([x, y, z]))\n",
    "   \n",
    "    X_train_non_lin[i] = np.array(new)\n",
    "\n",
    "for i, v in enumerate(X_val):\n",
    "    x, y, z  = np.square(v[0]), np.square(v[1]), v[0]*e[1] \n",
    "    new = np.append(v, np.array([x, y, z]))\n",
    "\n",
    "    X_val_non_lin[i] = np.array(new)\n",
    "\n",
    "acc_non_linear = []\n",
    "c6 = NumpyLinRegClass()\n",
    "c6.fit(X_train_non_lin, t2_train)\n",
    "acc_non_linear.append(c6.accuracy(X_val_non_lin, t2_val))\n",
    "\n",
    "c7 = NumpyLogReg()\n",
    "c7.fit(X_train_non_lin, t2_train)\n",
    "acc_non_linear.append(c7.accuracy(X_val_non_lin, t2_val))\n",
    "\n",
    "x = range(1, 20, 2)\n",
    "knn = []\n",
    "for k in x:\n",
    "    c8 = PykNNClassifier()\n",
    "    c8.fit(X_train_non_lin, t2_train)\n",
    "    knn.append((k, c8.accuracy(X_val_non_lin, t2_val)))\n",
    "acc_non_linear.append(knn)\n",
    "\n",
    "\n",
    "c9 = PyPerClassifier()\n",
    "c9.fit(X_train_non_lin, t2_train)\n",
    "acc_non_linear.append(c9.accuracy(X_val_non_lin, t2_val))\n",
    "\n",
    "print(acc_non_linear)"
   ]
  },
  {
   "cell_type": "markdown",
   "metadata": {},
   "source": [
    "\n",
    "| | Linear  | Logistic  | Knn | PyPer  \n",
    "| --- | --- | --- | --- | --- |\n",
    "|**Old**| 0.6025 |0.605 |  0.7525 | 0.6475\n",
    "|**New**| 0.515  |  0.67 |  0.74 |0.605\n",
    "\n",
    "As we can see from the results, the non-linear features actually made accuracys worse for every classifier except the logistic regression classifier. "
   ]
  }
 ],
 "metadata": {
  "kernelspec": {
   "display_name": "Python 3",
   "language": "python",
   "name": "python3"
  },
  "language_info": {
   "codemirror_mode": {
    "name": "ipython",
    "version": 3
   },
   "file_extension": ".py",
   "mimetype": "text/x-python",
   "name": "python",
   "nbconvert_exporter": "python",
   "pygments_lexer": "ipython3",
   "version": "3.7.4"
  }
 },
 "nbformat": 4,
 "nbformat_minor": 4
}
